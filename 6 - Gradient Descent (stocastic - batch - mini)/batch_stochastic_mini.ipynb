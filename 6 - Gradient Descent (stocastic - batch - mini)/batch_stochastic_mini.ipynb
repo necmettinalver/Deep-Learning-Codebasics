{
 "cells": [
  {
   "cell_type": "code",
   "execution_count": 170,
   "metadata": {},
   "outputs": [],
   "source": [
    "import pandas as pd\n",
    "import numpy as np\n",
    "from matplotlib import pyplot as plt\n",
    "%matplotlib inline\n",
    "\n",
    "import warnings\n",
    "warnings.filterwarnings('ignore')"
   ]
  },
  {
   "cell_type": "code",
   "execution_count": 10,
   "metadata": {},
   "outputs": [],
   "source": [
    "import numpy as np\n",
    "\n",
    "def batch_gradient_descent(X, y_true, epochs, learning_rate):\n",
    "    number_of_features = X.shape[1]\n",
    "    W = np.ones(shape=(number_of_features))\n",
    "    b = 0\n",
    "    cost_list = []\n",
    "    epoch_list = []\n",
    "\n",
    "    for i in range(epochs):\n",
    "        y_predicted = np.dot(X, W) + b\n",
    "\n",
    "        w_grad = -(2/len(X)) * np.dot(X.T, (y_true - y_predicted))\n",
    "        b_grad = -(2/len(X)) * np.sum(y_true - y_predicted)\n",
    "\n",
    "        W = W - learning_rate * w_grad\n",
    "        b -= learning_rate * b_grad\n",
    "\n",
    "        cost = np.mean(np.square(y_true - y_predicted))\n",
    "\n",
    "        if i % 100 == 0:\n",
    "            cost_list.append(cost)\n",
    "            epoch_list.append(i)\n",
    "\n",
    "    return W, b, cost, cost_list, epoch_list"
   ]
  },
  {
   "cell_type": "code",
   "execution_count": 119,
   "metadata": {},
   "outputs": [],
   "source": [
    "import random\n",
    "\n",
    "\n",
    "def stochastic_gradient_descent(X, y_true, epochs, learning_rate):\n",
    "    number_of_features = X.shape[1]\n",
    "    W = np.ones(shape=(number_of_features))\n",
    "    b = 0\n",
    "    cost_list = []\n",
    "    epoch_list = []\n",
    "    \n",
    "    for i in range(epochs):\n",
    "        random_index = random.randint(0,X.shape[0]-1)\n",
    "        X_sample = X[random_index]\n",
    "        y_sample = y_true[random_index]\n",
    "    \n",
    "        y_predicted = np.dot(X_sample,W) + b\n",
    "\n",
    "        w_grad = -(2/X.shape[0]) * np.dot(X_sample.T, (y_sample - y_predicted))\n",
    "        b_grad = -(2/X.shape[0]) * np.sum(y_sample - y_predicted)\n",
    "\n",
    "        W = W - learning_rate * w_grad\n",
    "        b -= learning_rate * b_grad\n",
    "\n",
    "        cost = np.mean(np.square(y_sample - y_predicted))\n",
    "\n",
    "        if i % 100 == 0:\n",
    "            cost_list.append(cost)\n",
    "            epoch_list.append(i)\n",
    "\n",
    "    return W, b, cost, cost_list, epoch_list\n",
    "\n",
    "\n",
    "\"\"\" \n",
    "def stochastic_gradient_descent(X, y, epochs, learning_rate):\n",
    "    number_of_features = X.shape[1]\n",
    "    W = np.ones(shape=(number_of_features))\n",
    "    b = 0\n",
    "    cost_list = []\n",
    "    epoch_list = []\n",
    "\n",
    "    total_samples = len(X)\n",
    "\n",
    "    for epoch in range(epochs):\n",
    "        cost_epoch = 0\n",
    "        for i in range(total_samples):\n",
    "            random_index = np.random.randint(total_samples)\n",
    "            X_i = X[random_index]\n",
    "            y_i = y[random_index]\n",
    "\n",
    "            y_predicted = np.dot(X_i, W) + b\n",
    "\n",
    "            w_grad = -(2 / total_samples) * X_i * (y_i - y_predicted)\n",
    "            b_grad = -(2 / total_samples) * (y_i - y_predicted)\n",
    "\n",
    "            W -= learning_rate * w_grad\n",
    "            b -= learning_rate * b_grad\n",
    "\n",
    "            cost = np.square(y_i - y_predicted)\n",
    "            cost_epoch += cost\n",
    "\n",
    "        cost_list.append(cost_epoch / total_samples)\n",
    "        epoch_list.append(epoch)\n",
    "\n",
    "    return W, b, cost_list, epoch_list\n",
    "\n",
    "\n",
    "\"\"\""
   ]
  },
  {
   "cell_type": "code",
   "execution_count": 121,
   "metadata": {},
   "outputs": [],
   "source": [
    "import random\n",
    "\n",
    "def mini_gradient_descent(X, y_true, epochs, learning_rate):\n",
    "    number_of_features = X.shape[1]\n",
    "    W = np.ones(shape=(number_of_features))\n",
    "    b = 0\n",
    "    cost_list = []\n",
    "    epoch_list = []\n",
    "    \n",
    "    for i in range(epochs):\n",
    "        random_index_i = random.randint(0,X.shape[0]-1)\n",
    "        random_index_j = random.randint(random_index_i,X.shape[0]-1)\n",
    "        \n",
    "        X_sample = X[random_index_i:random_index_j]\n",
    "        y_sample = y_true[random_index_i:random_index_j]\n",
    "    \n",
    "        y_predicted = np.dot(X_sample,W) + b\n",
    "\n",
    "        w_grad = -(2/X.shape[0]) * np.dot(X_sample.T, (y_sample - y_predicted))\n",
    "        b_grad = -(2/X.shape[0]) * np.sum(y_sample - y_predicted)\n",
    "\n",
    "        W = W - learning_rate * w_grad\n",
    "        b -= learning_rate * b_grad\n",
    "\n",
    "        cost = np.mean(np.square(y_sample - y_predicted))\n",
    "\n",
    "        if i % 100 == 0:\n",
    "            cost_list.append(cost)\n",
    "            epoch_list.append(i)\n",
    "\n",
    "    return W, b, cost, cost_list, epoch_list"
   ]
  },
  {
   "cell_type": "code",
   "execution_count": 13,
   "metadata": {},
   "outputs": [
    {
     "data": {
      "text/html": [
       "<div>\n",
       "<style scoped>\n",
       "    .dataframe tbody tr th:only-of-type {\n",
       "        vertical-align: middle;\n",
       "    }\n",
       "\n",
       "    .dataframe tbody tr th {\n",
       "        vertical-align: top;\n",
       "    }\n",
       "\n",
       "    .dataframe thead th {\n",
       "        text-align: right;\n",
       "    }\n",
       "</style>\n",
       "<table border=\"1\" class=\"dataframe\">\n",
       "  <thead>\n",
       "    <tr style=\"text-align: right;\">\n",
       "      <th></th>\n",
       "      <th>area</th>\n",
       "      <th>bedrooms</th>\n",
       "      <th>price</th>\n",
       "    </tr>\n",
       "  </thead>\n",
       "  <tbody>\n",
       "    <tr>\n",
       "      <th>12</th>\n",
       "      <td>1000</td>\n",
       "      <td>2</td>\n",
       "      <td>38.00</td>\n",
       "    </tr>\n",
       "    <tr>\n",
       "      <th>6</th>\n",
       "      <td>2732</td>\n",
       "      <td>4</td>\n",
       "      <td>135.00</td>\n",
       "    </tr>\n",
       "    <tr>\n",
       "      <th>4</th>\n",
       "      <td>1200</td>\n",
       "      <td>2</td>\n",
       "      <td>51.00</td>\n",
       "    </tr>\n",
       "    <tr>\n",
       "      <th>0</th>\n",
       "      <td>1056</td>\n",
       "      <td>2</td>\n",
       "      <td>39.07</td>\n",
       "    </tr>\n",
       "    <tr>\n",
       "      <th>10</th>\n",
       "      <td>1800</td>\n",
       "      <td>3</td>\n",
       "      <td>82.00</td>\n",
       "    </tr>\n",
       "  </tbody>\n",
       "</table>\n",
       "</div>"
      ],
      "text/plain": [
       "    area  bedrooms   price\n",
       "12  1000         2   38.00\n",
       "6   2732         4  135.00\n",
       "4   1200         2   51.00\n",
       "0   1056         2   39.07\n",
       "10  1800         3   82.00"
      ]
     },
     "execution_count": 13,
     "metadata": {},
     "output_type": "execute_result"
    }
   ],
   "source": [
    "df = pd.read_csv(\"homeprices_banglore.csv\")\n",
    "df.sample(5)"
   ]
  },
  {
   "cell_type": "code",
   "execution_count": 33,
   "metadata": {},
   "outputs": [
    {
     "data": {
      "text/plain": [
       "array([[0.08827586, 0.25      ],\n",
       "       [0.62068966, 0.75      ],\n",
       "       [0.22068966, 0.5       ],\n",
       "       [0.24862069, 0.5       ],\n",
       "       [0.13793103, 0.25      ],\n",
       "       [0.12758621, 0.25      ],\n",
       "       [0.6662069 , 0.75      ],\n",
       "       [0.86206897, 0.75      ],\n",
       "       [0.17586207, 0.5       ],\n",
       "       [1.        , 1.        ],\n",
       "       [0.34482759, 0.5       ],\n",
       "       [0.68448276, 0.75      ],\n",
       "       [0.06896552, 0.25      ],\n",
       "       [0.10344828, 0.25      ],\n",
       "       [0.5       , 0.5       ],\n",
       "       [0.12931034, 0.25      ],\n",
       "       [0.13103448, 0.5       ],\n",
       "       [0.25517241, 0.5       ],\n",
       "       [0.67931034, 0.5       ],\n",
       "       [0.        , 0.        ]])"
      ]
     },
     "execution_count": 33,
     "metadata": {},
     "output_type": "execute_result"
    }
   ],
   "source": [
    "from sklearn import preprocessing\n",
    "sx = preprocessing.MinMaxScaler()\n",
    "sy = preprocessing.MinMaxScaler()\n",
    "\n",
    "scaled_X = sx.fit_transform(df.drop('price',axis='columns'))\n",
    "scaled_y = sy.fit_transform(df['price'].values.reshape(df.shape[0],1))\n",
    "\n",
    "scaled_X"
   ]
  },
  {
   "cell_type": "code",
   "execution_count": 34,
   "metadata": {},
   "outputs": [
    {
     "data": {
      "text/plain": [
       "array([[0.05237037],\n",
       "       [0.65185185],\n",
       "       [0.22222222],\n",
       "       [0.31851852],\n",
       "       [0.14074074],\n",
       "       [0.04444444],\n",
       "       [0.76296296],\n",
       "       [0.91111111],\n",
       "       [0.13333333],\n",
       "       [1.        ],\n",
       "       [0.37037037],\n",
       "       [0.8       ],\n",
       "       [0.04444444],\n",
       "       [0.05925926],\n",
       "       [0.51111111],\n",
       "       [0.07407407],\n",
       "       [0.11851852],\n",
       "       [0.20740741],\n",
       "       [0.51851852],\n",
       "       [0.        ]])"
      ]
     },
     "execution_count": 34,
     "metadata": {},
     "output_type": "execute_result"
    }
   ],
   "source": [
    "scaled_y"
   ]
  },
  {
   "cell_type": "code",
   "execution_count": 31,
   "metadata": {},
   "outputs": [
    {
     "data": {
      "text/plain": [
       "array([0.05237037, 0.65185185, 0.22222222, 0.31851852, 0.14074074,\n",
       "       0.04444444, 0.76296296, 0.91111111, 0.13333333, 1.        ,\n",
       "       0.37037037, 0.8       , 0.04444444, 0.05925926, 0.51111111,\n",
       "       0.07407407, 0.11851852, 0.20740741, 0.51851852, 0.        ])"
      ]
     },
     "execution_count": 31,
     "metadata": {},
     "output_type": "execute_result"
    }
   ],
   "source": [
    "scaled_y.reshape(scaled_y.shape[0],)"
   ]
  },
  {
   "cell_type": "code",
   "execution_count": 105,
   "metadata": {},
   "outputs": [
    {
     "data": {
      "text/plain": [
       "(array([0.70712464, 0.67456527]), -0.23034857438407427, 0.0068641890429808105)"
      ]
     },
     "execution_count": 105,
     "metadata": {},
     "output_type": "execute_result"
    }
   ],
   "source": [
    "w, b, cost, cost_list, epoch_list = batch_gradient_descent(scaled_X,scaled_y.reshape(scaled_y.shape[0],),500,0.01)\n",
    "w, b, cost"
   ]
  },
  {
   "cell_type": "code",
   "execution_count": 120,
   "metadata": {},
   "outputs": [
    {
     "data": {
      "text/plain": [
       "(array([0.70865319, 0.67799845]), -0.230178256854771, 0.005158228906995724)"
      ]
     },
     "execution_count": 120,
     "metadata": {},
     "output_type": "execute_result"
    }
   ],
   "source": [
    "w, b, cost, cost_list, epoch_list = stochastic_gradient_descent(scaled_X,scaled_y.reshape(scaled_y.shape[0],),10000,0.01)\n",
    "w, b, cost"
   ]
  },
  {
   "cell_type": "code",
   "execution_count": 126,
   "metadata": {},
   "outputs": [
    {
     "data": {
      "text/plain": [
       "(array([0.69181179, 0.57366427]), -0.1734721636218009, 0.006821515363662935)"
      ]
     },
     "execution_count": 126,
     "metadata": {},
     "output_type": "execute_result"
    }
   ],
   "source": [
    "w, b, cost, cost_list, epoch_list = mini_gradient_descent(scaled_X,scaled_y.reshape(scaled_y.shape[0],),10000,0.01)\n",
    "w, b, cost"
   ]
  },
  {
   "cell_type": "code",
   "execution_count": 134,
   "metadata": {},
   "outputs": [
    {
     "data": {
      "text/plain": [
       "(array([0.92216464, 0.20240508]), -0.07446888489097499, 0.0005363655677814361)"
      ]
     },
     "execution_count": 134,
     "metadata": {},
     "output_type": "execute_result"
    }
   ],
   "source": [
    "import numpy as np\n",
    "\n",
    "def minii_gradient_descent(X, y, epochs, learning_rate, batch_size):\n",
    "    number_of_features = X.shape[1]\n",
    "    W = np.ones(shape=(number_of_features))\n",
    "    b = 0\n",
    "    cost_list = []\n",
    "    epoch_list = []\n",
    "\n",
    "    total_samples = len(X)\n",
    "\n",
    "    for epoch in range(epochs):\n",
    "        cost_epoch = 0\n",
    "        indices = np.random.permutation(total_samples)\n",
    "        X_shuffled = X[indices]\n",
    "        y_shuffled = y[indices]\n",
    "\n",
    "        for i in range(0, total_samples, batch_size):\n",
    "            X_batch = X_shuffled[i:i+batch_size]\n",
    "            y_batch = y_shuffled[i:i+batch_size]\n",
    "\n",
    "            y_predicted = np.dot(X_batch, W) + b\n",
    "\n",
    "            w_grad = -(2 / len(X_batch)) * np.dot(X_batch.T, (y_batch - y_predicted))\n",
    "            b_grad = -(2 / len(X_batch)) * np.sum(y_batch - y_predicted)\n",
    "\n",
    "            W -= learning_rate * w_grad\n",
    "            b -= learning_rate * b_grad\n",
    "\n",
    "            cost = np.mean(np.square(y_batch - y_predicted))\n",
    "            cost_epoch += cost\n",
    "\n",
    "        cost_list.append(cost_epoch / (total_samples // batch_size))\n",
    "        epoch_list.append(epoch)\n",
    "\n",
    "    return W, b,cost/ (total_samples // batch_size), cost_list, epoch_list\n",
    "\n",
    "w, b, cost, cost_list, epoch_list = minii_gradient_descent(scaled_X,scaled_y.reshape(scaled_y.shape[0],),10000,0.01,3)\n",
    "w, b, cost"
   ]
  },
  {
   "cell_type": "code",
   "execution_count": 168,
   "metadata": {},
   "outputs": [],
   "source": [
    "def predict(X,w,b):\n",
    "    X= sx.transform(X)[0]\n",
    "    y_predicted = np.dot(X, w) + b\n",
    "\n",
    "    y_predicted = sy.inverse_transform([[y_predicted]])\n",
    "    print(y_predicted)\n",
    "    \n"
   ]
  },
  {
   "cell_type": "code",
   "execution_count": 171,
   "metadata": {},
   "outputs": [
    {
     "name": "stdout",
     "output_type": "stream",
     "text": [
      "[[39.76753063]]\n"
     ]
    }
   ],
   "source": [
    "predict([[1056,2]],w,b)"
   ]
  }
 ],
 "metadata": {
  "kernelspec": {
   "display_name": "base",
   "language": "python",
   "name": "python3"
  },
  "language_info": {
   "codemirror_mode": {
    "name": "ipython",
    "version": 3
   },
   "file_extension": ".py",
   "mimetype": "text/x-python",
   "name": "python",
   "nbconvert_exporter": "python",
   "pygments_lexer": "ipython3",
   "version": "3.9.12"
  },
  "orig_nbformat": 4
 },
 "nbformat": 4,
 "nbformat_minor": 2
}
